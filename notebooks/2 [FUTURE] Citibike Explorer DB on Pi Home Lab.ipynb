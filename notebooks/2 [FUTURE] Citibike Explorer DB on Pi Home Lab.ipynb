{
 "cells": [
  {
   "cell_type": "markdown",
   "metadata": {},
   "source": [
    "The very first service I want running in the Kubernetes space on my Raspberry Pi cluster is the my Citibike Explorer service. This service is currently embedded in my website and calls out to a remote freemium MongoDB database owned by a company that MongoDB eventually acquired. It's high time I got it off the cloud and under the control of my own hardware."
   ]
  },
  {
   "cell_type": "markdown",
   "metadata": {},
   "source": [
    "### Install Docker on the Pi\n",
    "\n",
    "After the previous step, we have a `containerd`-based Kubernetes runtime. This reduces the memory footprint at runtime, but it's still useful to have `docker` available at the command line when needed. To do that we install Docker with the following:\n",
    "\n",
    "```\n",
    "curl -sSL https://get.docker.com | sh\n",
    "sudo usermod -aG docker pi\n",
    "```\n",
    "\n",
    "### Replace RASPAIN with a 64-bit OS\n",
    "\n",
    "The Raspberry Pi 4 board is a 32-bit ARM. There is no MongoDB Docker image that supports this architecture. That's kind of insane!\n",
    "\n",
    "It's theoretically possible to switch to using a 64-bit OS, as the actual chip itself is 64-bit. [The decision to keep to 32-bit was for backwards compatibility](https://www.raspberrypi.org/blog/raspberry-pi-4-on-sale-now-from-35/):\n",
    "\n",
    "> We cannot avoid focussing on backwards compatibility; it may not matter to you, but it is massively important to us. There are 27 million Pis in the wild; I don’t have exact numbers to hand for how many of those are Pis 1, 2 and Zero, but it’s well over 10 million of them. As soon as we move to a 64-bit OS, those devices are orphaned, because we do not have the resource to maintain two separate forks of Raspbian. (Not to mention to handle the support requests we will get from the thousands of users who download the wrong version and find it doesn’t boot.)\n",
    ">\n",
    "> No-one has yet managed to provide us with a convincing use-case for where a 64-bit OS actually provides a real, quantifiable benefit to end-users. 32-bit accesses the entire RAM of the 4GB Pi 4. 64-bit code is invariably larger than 32-bit code – compare the sizes of the 32-bit and 64-bit versions of Windows 7; the 64-bit version is 30-40% larger. That’s a lot of extra download bandwidth for us, and for our users. A lot of 64-bit code actually runs slower than the 32-bit equivalent – because it’s larger, it takes longer to pull in from backing store. There are numerous costs attached to 64-bit – and we have yet to find a proven use-case where it actually offers any benefit whatsoever to the vast majority of our user base.\n",
    "> \n",
    "> So no, this is not the ideal platform for the transition, or the time to make it. When (and if) we have a board that has more than 4GB of RAM – and that is likely to be a good few years off from today’s launch – we will look at 64-bit. But until then, the advantages of 32-bit – backwards compatibility, size, speed; of which backwards compatibility is easily the largest – vastly outweigh the putative advantages of a move to 64-bit at this point in time.\n",
    "\n",
    "At this time, the Raspberry Pi 4 is still so new that nobody has as of yet created a Linux distribution that is fully 64 bit that I like. Track [this StackOverflow question](https://raspberrypi.stackexchange.com/questions/100926/64-bit-os-on-raspberry-pi-4) for progress in this regard."
   ]
  }
 ],
 "metadata": {
  "kernelspec": {
   "display_name": "Python 3",
   "language": "python",
   "name": "python3"
  },
  "language_info": {
   "codemirror_mode": {
    "name": "ipython",
    "version": 3
   },
   "file_extension": ".py",
   "mimetype": "text/x-python",
   "name": "python",
   "nbconvert_exporter": "python",
   "pygments_lexer": "ipython3",
   "version": "3.6.7"
  }
 },
 "nbformat": 4,
 "nbformat_minor": 2
}
