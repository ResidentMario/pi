{
 "cells": [
  {
   "cell_type": "markdown",
   "metadata": {},
   "source": [
    "## Raspberry Pi SSH with Gentoo\n",
    "\n",
    "After three months or so of patient waiting, support for a 64 bit operating system on the Raspberry Pi 4 board has advanced to a stable state. There are a couple of OS options for this, of which Gentoo is the most broadly used.\n",
    "\n",
    "### Testing Pi status\n",
    "\n",
    "Before doing anything else, plug the power into the Pi board without the microSD card loaded in. The red LED power should come on, indicating that the board is receiving power. Then, the green LED should come on and start flashing, indicating that the board is able to read from the SD reader (even though there's nothing there).\n",
    "\n",
    "### Flashing Gento onto the Pi\n",
    "\n",
    "The instructions for running 64-bit Gentoo on Raspberry Pi 4 are provided by the kernel author who got this to work in his GitHub repository: [sakaki-/gentoo-on-rpi-64-bit](https://github.com/sakaki-/gentoo-on-rpi-64bit).\n",
    "\n",
    "I began by downloading the full Gentoo image, which is ~3 GB compressed and ~13 GB uncompressed. The instructions for doing this are the repository.\n",
    "\n",
    "Since the full image is 13 GB, you need a larger capacity microSD card than you get with the starter pack for actual practical use, because that microSD is just 16 GB in size. I got a 32 GB one off of dad.\n",
    "\n",
    "The instructions state that the image can be flashed using `xzcopy`. I got persistent permission denied errors when I attempted to follow these instructions.\n",
    "\n",
    "I copied the `img` file over using Finder, however, the resulting image did not boot. After looking around and trying a bunch of different things, I found a link to the [balena etcher](https://www.balena.io/etcher/) utility in the [RASPIAN install instructions](https://www.raspberrypi.org/documentation/installation/installing-images/README.md). After running this utility the microSD card contained many many files, not just the raw disk image ISO. This time around the microSD booted successfully (insofar as it actually flashed the green light in addition to the red power light when plugged in).\n",
    "\n",
    "I guess the author just assumed prior knowledge that I didn't have: that the ISO is not enough, and that you have to unpack the disk image first yourself...somehow.\n",
    "\n",
    "To verify successful boot: connect the Pi to an HDMI monitor (use the first image out slot, e.g. the one immediately to the right of the USB-C power slot on the Pi board). After going through the bootloader sequence you should boot to Gentoo desktop.\n",
    "\n",
    "### Accessing the Pi in headless mode via SSH\n",
    "\n",
    "In theory I could continue setup at this point interactively. Unfortunately, however, I do not have access to a wired keyboard at this time, without which I cannot type text. So we'll do further configuration in headless mode, via SSH.\n",
    "\n",
    "To enable SSH on the Pi, `touch` a file in the boot partition named `ssh` (no extension). This file will automatically be checked at startup time, and if present, it will be deleted and SSH will be enabled. SSH used to be enabled by default but some bullshit about security got in the way, so now you have to do this song and dance first.\n",
    "\n",
    "Once SSH is enabled, the Pi needs to be connected to the local network. This can be done initially using a wired connection directly to the router.\n",
    "\n",
    "You now need to perform discovery on the Pi to determine its IP address. To do this log into the management console of the router. Netgear et. al. have a standard IP address you can go to for performing this function. There you should be a device assigned the name e.g. `RASPBERRYPI0`, with an IP address attached.\n",
    "\n",
    "Run `ssh IP`, and do the login procedure. The default username is `demouser` and the default password is `raspberrypi64`.\n",
    "\n",
    "Unfortunately I could not figure out where the login panel is for my parents' home network. The login URL given by a sticker on the router returns nothing. Putting this off until I control my own router because IDGAF about their network.\n",
    "\n",
    "### Future\n",
    "\n",
    "Once the above is done proceed to notebook 1."
   ]
  }
 ],
 "metadata": {
  "kernelspec": {
   "display_name": "Python 3",
   "language": "python",
   "name": "python3"
  },
  "language_info": {
   "codemirror_mode": {
    "name": "ipython",
    "version": 3
   },
   "file_extension": ".py",
   "mimetype": "text/x-python",
   "name": "python",
   "nbconvert_exporter": "python",
   "pygments_lexer": "ipython3",
   "version": "3.6.7"
  }
 },
 "nbformat": 4,
 "nbformat_minor": 2
}
